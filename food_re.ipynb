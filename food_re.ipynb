{
 "cells": [
  {
   "cell_type": "markdown",
   "metadata": {},
   "source": [
    "# Food Recommedation System"
   ]
  },
  {
   "cell_type": "code",
   "execution_count": 1,
   "metadata": {},
   "outputs": [],
   "source": [
    "# Libraries\n",
    "import pandas as pd\n",
    "import numpy as np \n",
    "import matplotlib.pyplot as plt\n",
    "\n"
   ]
  },
  {
   "cell_type": "code",
   "execution_count": 2,
   "metadata": {},
   "outputs": [],
   "source": [
    "# Load the data\n",
    "\n",
    "data = pd.read_csv('food_survey.csv')"
   ]
  },
  {
   "cell_type": "markdown",
   "metadata": {},
   "source": [
    "# Data Preprocessing"
   ]
  },
  {
   "cell_type": "code",
   "execution_count": 3,
   "metadata": {},
   "outputs": [
    {
     "data": {
      "text/html": [
       "<div>\n",
       "<style scoped>\n",
       "    .dataframe tbody tr th:only-of-type {\n",
       "        vertical-align: middle;\n",
       "    }\n",
       "\n",
       "    .dataframe tbody tr th {\n",
       "        vertical-align: top;\n",
       "    }\n",
       "\n",
       "    .dataframe thead th {\n",
       "        text-align: right;\n",
       "    }\n",
       "</style>\n",
       "<table border=\"1\" class=\"dataframe\">\n",
       "  <thead>\n",
       "    <tr style=\"text-align: right;\">\n",
       "      <th></th>\n",
       "      <th>Food_ID</th>\n",
       "      <th>Name</th>\n",
       "      <th>C_Type</th>\n",
       "      <th>Veg_Non</th>\n",
       "      <th>Describe</th>\n",
       "    </tr>\n",
       "  </thead>\n",
       "  <tbody>\n",
       "    <tr>\n",
       "      <th>0</th>\n",
       "      <td>1</td>\n",
       "      <td>summer squash salad</td>\n",
       "      <td>Healthy Food</td>\n",
       "      <td>veg</td>\n",
       "      <td>white balsamic vinegar, lemon juice, lemon rin...</td>\n",
       "    </tr>\n",
       "    <tr>\n",
       "      <th>1</th>\n",
       "      <td>2</td>\n",
       "      <td>chicken minced salad</td>\n",
       "      <td>Healthy Food</td>\n",
       "      <td>non-veg</td>\n",
       "      <td>olive oil, chicken mince, garlic (minced), oni...</td>\n",
       "    </tr>\n",
       "    <tr>\n",
       "      <th>2</th>\n",
       "      <td>3</td>\n",
       "      <td>sweet chilli almonds</td>\n",
       "      <td>Snack</td>\n",
       "      <td>veg</td>\n",
       "      <td>almonds whole, egg white, curry leaves, salt, ...</td>\n",
       "    </tr>\n",
       "    <tr>\n",
       "      <th>3</th>\n",
       "      <td>4</td>\n",
       "      <td>tricolour salad</td>\n",
       "      <td>Healthy Food</td>\n",
       "      <td>veg</td>\n",
       "      <td>vinegar, honey/sugar, soy sauce, salt, garlic ...</td>\n",
       "    </tr>\n",
       "    <tr>\n",
       "      <th>4</th>\n",
       "      <td>5</td>\n",
       "      <td>christmas cake</td>\n",
       "      <td>Dessert</td>\n",
       "      <td>veg</td>\n",
       "      <td>christmas dry fruits (pre-soaked), orange zest...</td>\n",
       "    </tr>\n",
       "  </tbody>\n",
       "</table>\n",
       "</div>"
      ],
      "text/plain": [
       "   Food_ID                  Name        C_Type  Veg_Non  \\\n",
       "0        1   summer squash salad  Healthy Food      veg   \n",
       "1        2  chicken minced salad  Healthy Food  non-veg   \n",
       "2        3  sweet chilli almonds         Snack      veg   \n",
       "3        4       tricolour salad  Healthy Food      veg   \n",
       "4        5        christmas cake       Dessert      veg   \n",
       "\n",
       "                                            Describe  \n",
       "0  white balsamic vinegar, lemon juice, lemon rin...  \n",
       "1  olive oil, chicken mince, garlic (minced), oni...  \n",
       "2  almonds whole, egg white, curry leaves, salt, ...  \n",
       "3  vinegar, honey/sugar, soy sauce, salt, garlic ...  \n",
       "4  christmas dry fruits (pre-soaked), orange zest...  "
      ]
     },
     "execution_count": 3,
     "metadata": {},
     "output_type": "execute_result"
    }
   ],
   "source": [
    "data.head()"
   ]
  },
  {
   "cell_type": "code",
   "execution_count": 4,
   "metadata": {},
   "outputs": [
    {
     "name": "stdout",
     "output_type": "stream",
     "text": [
      "C_Type\n",
      "Indian          88\n",
      "Healthy Food    58\n",
      "Dessert         53\n",
      "Chinese         27\n",
      "Italian         25\n",
      "Snack           23\n",
      "Thai            23\n",
      "French          22\n",
      "Mexican         21\n",
      "Japanese        18\n",
      "Beverage        11\n",
      "Nepalese        11\n",
      "Korean           9\n",
      "Vietnames        9\n",
      " Korean          1\n",
      "Spanish          1\n",
      "Name: count, dtype: int64\n"
     ]
    }
   ],
   "source": [
    "food_type_counts = data['C_Type'].value_counts()\n",
    "print(food_type_counts)"
   ]
  },
  {
   "cell_type": "code",
   "execution_count": 5,
   "metadata": {},
   "outputs": [
    {
     "name": "stdout",
     "output_type": "stream",
     "text": [
      "Veg_Non\n",
      "veg        238\n",
      "non-veg    162\n",
      "Name: count, dtype: int64\n"
     ]
    }
   ],
   "source": [
    "veg_non_counts = data['Veg_Non'].value_counts()\n",
    "print(veg_non_counts)"
   ]
  },
  {
   "cell_type": "code",
   "execution_count": 6,
   "metadata": {},
   "outputs": [
    {
     "name": "stdout",
     "output_type": "stream",
     "text": [
      "<class 'pandas.core.frame.DataFrame'>\n",
      "Index: 3981 entries, 0 to 399\n",
      "Data columns (total 5 columns):\n",
      " #   Column      Non-Null Count  Dtype \n",
      "---  ------      --------------  ----- \n",
      " 0   Food_ID     3981 non-null   int64 \n",
      " 1   Name        3981 non-null   object\n",
      " 2   C_Type      3981 non-null   object\n",
      " 3   Veg_Non     3981 non-null   object\n",
      " 4   Ingredient  3981 non-null   object\n",
      "dtypes: int64(1), object(4)\n",
      "memory usage: 186.6+ KB\n"
     ]
    }
   ],
   "source": [
    "# Split the 'Describe' column by ', ' and explode the list into separate rows\n",
    "ingredients_df = data.assign(Ingredient=data['Describe'].str.split(', ')).explode('Ingredient')\n",
    "\n",
    "# Drop the original 'Describe' column as it's no longer needed\n",
    "ingredients_df = ingredients_df.drop(columns=['Describe'])\n",
    "\n",
    "ingredients_df.info()"
   ]
  },
  {
   "cell_type": "code",
   "execution_count": 7,
   "metadata": {},
   "outputs": [
    {
     "name": "stdout",
     "output_type": "stream",
     "text": [
      "There are 400 unique recipes in the data.\n"
     ]
    }
   ],
   "source": [
    "num_recipes = data['Name'].nunique()\n",
    "print(f'There are {num_recipes} unique recipes in the data.')"
   ]
  },
  {
   "cell_type": "code",
   "execution_count": 8,
   "metadata": {},
   "outputs": [
    {
     "name": "stdout",
     "output_type": "stream",
     "text": [
      "Ingredient\n",
      "salt                           166\n",
      "onion                           67\n",
      "sugar                           56\n",
      "garlic                          54\n",
      "oil                             54\n",
      "                              ... \n",
      "sprouts                          1\n",
      "summer squash,carrot             1\n",
      "oil,salt                         1\n",
      "corn tortilla mix,corn,salt      1\n",
      "ground pepper                    1\n",
      "Name: count, Length: 1764, dtype: int64\n"
     ]
    },
    {
     "data": {
      "image/png": "[encoded data removed]",
      "text/plain": [
       "<Figure size 1200x600 with 1 Axes>"
      ]
     },
     "metadata": {},
     "output_type": "display_data"
    }
   ],
   "source": [
    "# Count the occurrences of each ingredient\n",
    "ingredient_counts = ingredients_df['Ingredient'].value_counts()\n",
    "print(ingredient_counts)\n",
    "# Plot the top 20 ingredients\n",
    "ingredient_counts.head(20).plot(kind='bar', figsize=(12, 6), title='Top 20 Ingredients')\n",
    "plt.xlabel('Ingredient')\n",
    "plt.ylabel('Count')\n",
    "plt.show()"
   ]
  },
  {
   "cell_type": "code",
   "execution_count": 9,
   "metadata": {},
   "outputs": [
    {
     "name": "stdout",
     "output_type": "stream",
     "text": [
      "The minimum number of ingredients in a single dish is 1.\n",
      "The maximum number of ingredients in a single dish is 34.\n"
     ]
    }
   ],
   "source": [
    "# Group by Food_ID and count the number of ingredients for each dish\n",
    "ingredient_counts_per_dish = ingredients_df.groupby('Food_ID').size()\n",
    "\n",
    "# Find the minimum and maximum number of ingredients in a single dish\n",
    "min_ingredients = ingredient_counts_per_dish.min()\n",
    "max_ingredients = ingredient_counts_per_dish.max()\n",
    "\n",
    "print(f'The minimum number of ingredients in a single dish is {min_ingredients}.')\n",
    "print(f'The maximum number of ingredients in a single dish is {max_ingredients}.')"
   ]
  },
  {
   "cell_type": "code",
   "execution_count": 10,
   "metadata": {},
   "outputs": [
    {
     "name": "stdout",
     "output_type": "stream",
     "text": [
      "Minimum number of ingredients per dish: 1.0\n",
      "First quartile (Q1) of ingredients per dish: 6.0\n",
      "Median (Q2) number of ingredients per dish: 9.0\n",
      "Third quartile (Q3) of ingredients per dish: 13.0\n",
      "Maximum number of ingredients per dish: 34.0\n"
     ]
    }
   ],
   "source": [
    "# Get the descriptive statistics for the number of ingredients per dish\n",
    "ingredient_stats = ingredient_counts_per_dish.describe()\n",
    "\n",
    "# Extract the required statistics\n",
    "min_ingredients = ingredient_stats['min']\n",
    "q1_ingredients = ingredient_stats['25%']\n",
    "median_ingredients = ingredient_stats['50%']\n",
    "q3_ingredients = ingredient_stats['75%']\n",
    "max_ingredients = ingredient_stats['max']\n",
    "\n",
    "print(f'Minimum number of ingredients per dish: {min_ingredients}')\n",
    "print(f'First quartile (Q1) of ingredients per dish: {q1_ingredients}')\n",
    "print(f'Median (Q2) number of ingredients per dish: {median_ingredients}')\n",
    "print(f'Third quartile (Q3) of ingredients per dish: {q3_ingredients}')\n",
    "print(f'Maximum number of ingredients per dish: {max_ingredients}')"
   ]
  },
  {
   "cell_type": "markdown",
   "metadata": {},
   "source": [
    "Colaborate Filtter"
   ]
  },
  {
   "cell_type": "code",
   "execution_count": 1,
   "metadata": {},
   "outputs": [
    {
     "name": "stdout",
     "output_type": "stream",
     "text": [
      "scikit-surprise is installed.\n"
     ]
    }
   ],
   "source": [
    "try:\n",
    "    import surprise\n",
    "    print(\"scikit-surprise is installed.\")\n",
    "except ImportError:\n",
    "    print(\"scikit-surprise is not installed.\")\n"
   ]
  },
  {
   "cell_type": "markdown",
   "metadata": {},
   "source": []
  }
 ],
 "metadata": {
  "kernelspec": {
   "display_name": "Python 3",
   "language": "python",
   "name": "python3"
  },
  "language_info": {
   "codemirror_mode": {
    "name": "ipython",
    "version": 3
   },
   "file_extension": ".py",
   "mimetype": "text/x-python",
   "name": "python",
   "nbconvert_exporter": "python",
   "pygments_lexer": "ipython3",
   "version": "3.12.7"
  }
 },
 "nbformat": 4,
 "nbformat_minor": 2
}
