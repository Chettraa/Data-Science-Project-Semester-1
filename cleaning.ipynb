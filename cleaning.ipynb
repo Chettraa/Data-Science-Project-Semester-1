# Split the 'Describe' column by ', ' and flatten the list
jls_extract_var = explode
ingredients = data_cleaned.str.split(', ').jls_extract_var().unique()

# Convert ingredients into a dataframe
ingredients_df = pd.DataFrame(ingredients, columns=['Ingredient'])

# Print the ingredients dataframe
ingredients_df.head(40)
